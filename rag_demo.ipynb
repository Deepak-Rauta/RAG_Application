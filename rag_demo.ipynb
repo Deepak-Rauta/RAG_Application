{
 "cells": [
  {
   "cell_type": "code",
   "execution_count": 1,
   "id": "908b313e",
   "metadata": {},
   "outputs": [],
   "source": [
    "from langchain_community.document_loaders import UnstructuredURLLoader"
   ]
  },
  {
   "cell_type": "code",
   "execution_count": 2,
   "id": "7784c93a",
   "metadata": {},
   "outputs": [],
   "source": [
    "urls = ['https://www.victoriaonmove.com.au', 'https://www.victoriaonmove.com.au/index.html', 'https://www.victoriaonmove.com.au/contact.html']\n",
    "loader = UnstructuredURLLoader(urls=urls)\n",
    "data = loader.load()"
   ]
  },
  {
   "cell_type": "code",
   "execution_count": 3,
   "id": "c9161680",
   "metadata": {},
   "outputs": [
    {
     "data": {
      "text/plain": [
       "[Document(metadata={'source': 'https://www.victoriaonmove.com.au'}, page_content=\"Loading...\\n\\nRelocate with confidence\\n\\nYour trusted partner in seamless moving and packing solutions!\\n\\nGoogle logo G\\n\\nGoogle Rating\\n\\nGold star icon\\n\\nGold star icon\\n\\nGold star icon\\n\\nGold star icon\\n\\nGold star icon\\n\\n5 stars, 111 reviews\\n\\n\\n\\n\\n\\n\\n\\n\\n\\nRequst A call for You:\\n\\nExplore Our Fleet\\n\\nVehicles Tailored for Your Moving Needs\\n\\nIcon\\n\\nSmall Truck\\n\\nWith 2 Mover\\n\\nFrom $110/hr\\n\\n4.5 ton 20 cubic Our Small Truck can manage a student apartment, small office .\\n\\nIcon\\n\\nMedium Truck\\n\\nWith 2 Mover\\n\\nFrom $130 p/hr\\n\\n6 ton 30-35 cubic\\n\\nOur Medium trucks can manage 2-3 bedroom with single lounge outdoor boxes and miscellaneous.\\n\\nIcon\\n\\nLarge Truck\\n\\nWith 2 Mover\\n\\nFrom $140 p/hr\\n\\n8 ton 40 cubic Our Large trucks can handle 3-4 bedrooms with double lounge outdoor boxes and miscellaneous.\\n\\nIcon\\n\\nX-Large Truck\\n\\nWith 2 Mover\\n\\nFrom $150 p/hr\\n\\n4.5 ton 20 cubic (10 ton or 50 cubic meter) Our X-Large trucks can handle 3-4 bedrooms double lounge outdoor miscellaneous items.\\n\\n\\n\\nOUR SERVICE\\n\\nWE OFFER QUICK & POWERFUL LOGISTICS SOLUTION\\n\\nFURNITURE REMOVALS:\\n\\nWe are the furniture removals specialists in Victoria. Our Teams are experienced and comes with Furniture moving equipments like- Trolleys. Blankets, Loading Ramps.\\n\\nINSURANCE:\\n\\nVictoria On Move Pvt Ltd. look after your goods arrive safely at your destination. We have Transit and Public liability insurance. Transit insurance covers loading and unloading from vehicle , and Road accident cover.\\n\\n1 BED HOME:\\n\\n1 Bed, Mattress, Tall Boy, Bedside, Refrigerator, Washing Machine, Some Boxes.\\n\\n2 BED HOME:\\n\\n2 Beds, Mattress, Tall Boy, Bedside, Refrigerator, Washing Machine,Dresser, Barbeque, Some Boxes, Loose stuff.\\n\\nBig HOME:\\n\\n4-5 Bed Room, Double Lounge, Mattress, Tall Boy, Bedside, Refrigerator, Washing Machine,Dresser, Barbeque, Some Boxes,Furniture, Loose stuff. Get a Quote\\n\\nInterstate Removalists:\\n\\nSeamless Relocation Across State Lines\\n\\n\\n\\nMelbourne to Sydney Removalists\\n\\nBook Now\\n\\n\\n\\nMelbourne to Brisbane Removalists\\n\\nBook Now\\n\\n\\n\\nMelbourne to Adelaide Removalists\\n\\nBook Now\\n\\n\\n\\nMelbourne to Canberra Removalists\\n\\nBook Now\\n\\n\\n\\nOUR MOVING WORK & ETHICS\\n\\nMoving house furniture is an art that comes with experience and a steadfast commitment to our customers' needs. It's a challenging industry, and not everyone survives for long without the expertise and dedication that we bring to every job. Our long history as Removalists in Melbourne is a testament to our sincerity and hard work.\\n\\nUnlike some other moving companies, we value the trust our customers place in us. Our customer reviews on Google are genuine, and we never manipulate them. We trust in our quality and experience and believe in our destiny to provide top-notch moving and packing services to our clients.\\n\\nContact Us\\n\\nOur Clients Say!\\n\\nDiscover firsthand experiences from our valued clients through their heartfelt testimonials. From seamless moves to exceptional service, our customers share how we've made their relocation journey stress-free and rewarding. Explore their stories and see why they trust us with their moves time and again.\\n\\n\\n\\n\\n\\n\\n\\n\\n\\n\\n\\n\\n\\n\\n\\n\\n\\n\\n\\n\\n\\nGet In Touch\\n\\nWollert Victoria\\n\\n0404922328\\n\\nvictoriaonmove07@gmail.com\\n\\nQuick Links\\n\\nAbout Us Contact Us Our Services Terms & Condition\\n\\nPhoto Gallery\\n\\n\\n\\n\\n\\n\\n\\n\\n\\n\\n\\n\\n\\nCheck us out on Google!\\n\\nreviews\\n\\n© Victoria On Move 2024, All Right Reserved. Designed By HTML Codex\\n\\nHome\"),\n",
       " Document(metadata={'source': 'https://www.victoriaonmove.com.au/index.html'}, page_content=\"Loading...\\n\\nRelocate with confidence\\n\\nYour trusted partner in seamless moving and packing solutions!\\n\\nGoogle logo G\\n\\nGoogle Rating\\n\\nGold star icon\\n\\nGold star icon\\n\\nGold star icon\\n\\nGold star icon\\n\\nGold star icon\\n\\n5 stars, 111 reviews\\n\\n\\n\\n\\n\\n\\n\\n\\n\\nRequst A call for You:\\n\\nExplore Our Fleet\\n\\nVehicles Tailored for Your Moving Needs\\n\\nIcon\\n\\nSmall Truck\\n\\nWith 2 Mover\\n\\nFrom $110/hr\\n\\n4.5 ton 20 cubic Our Small Truck can manage a student apartment, small office .\\n\\nIcon\\n\\nMedium Truck\\n\\nWith 2 Mover\\n\\nFrom $130 p/hr\\n\\n6 ton 30-35 cubic\\n\\nOur Medium trucks can manage 2-3 bedroom with single lounge outdoor boxes and miscellaneous.\\n\\nIcon\\n\\nLarge Truck\\n\\nWith 2 Mover\\n\\nFrom $140 p/hr\\n\\n8 ton 40 cubic Our Large trucks can handle 3-4 bedrooms with double lounge outdoor boxes and miscellaneous.\\n\\nIcon\\n\\nX-Large Truck\\n\\nWith 2 Mover\\n\\nFrom $150 p/hr\\n\\n4.5 ton 20 cubic (10 ton or 50 cubic meter) Our X-Large trucks can handle 3-4 bedrooms double lounge outdoor miscellaneous items.\\n\\n\\n\\nOUR SERVICE\\n\\nWE OFFER QUICK & POWERFUL LOGISTICS SOLUTION\\n\\nFURNITURE REMOVALS:\\n\\nWe are the furniture removals specialists in Victoria. Our Teams are experienced and comes with Furniture moving equipments like- Trolleys. Blankets, Loading Ramps.\\n\\nINSURANCE:\\n\\nVictoria On Move Pvt Ltd. look after your goods arrive safely at your destination. We have Transit and Public liability insurance. Transit insurance covers loading and unloading from vehicle , and Road accident cover.\\n\\n1 BED HOME:\\n\\n1 Bed, Mattress, Tall Boy, Bedside, Refrigerator, Washing Machine, Some Boxes.\\n\\n2 BED HOME:\\n\\n2 Beds, Mattress, Tall Boy, Bedside, Refrigerator, Washing Machine,Dresser, Barbeque, Some Boxes, Loose stuff.\\n\\nBig HOME:\\n\\n4-5 Bed Room, Double Lounge, Mattress, Tall Boy, Bedside, Refrigerator, Washing Machine,Dresser, Barbeque, Some Boxes,Furniture, Loose stuff. Get a Quote\\n\\nInterstate Removalists:\\n\\nSeamless Relocation Across State Lines\\n\\n\\n\\nMelbourne to Sydney Removalists\\n\\nBook Now\\n\\n\\n\\nMelbourne to Brisbane Removalists\\n\\nBook Now\\n\\n\\n\\nMelbourne to Adelaide Removalists\\n\\nBook Now\\n\\n\\n\\nMelbourne to Canberra Removalists\\n\\nBook Now\\n\\n\\n\\nOUR MOVING WORK & ETHICS\\n\\nMoving house furniture is an art that comes with experience and a steadfast commitment to our customers' needs. It's a challenging industry, and not everyone survives for long without the expertise and dedication that we bring to every job. Our long history as Removalists in Melbourne is a testament to our sincerity and hard work.\\n\\nUnlike some other moving companies, we value the trust our customers place in us. Our customer reviews on Google are genuine, and we never manipulate them. We trust in our quality and experience and believe in our destiny to provide top-notch moving and packing services to our clients.\\n\\nContact Us\\n\\nOur Clients Say!\\n\\nDiscover firsthand experiences from our valued clients through their heartfelt testimonials. From seamless moves to exceptional service, our customers share how we've made their relocation journey stress-free and rewarding. Explore their stories and see why they trust us with their moves time and again.\\n\\n\\n\\n\\n\\n\\n\\n\\n\\n\\n\\n\\n\\n\\n\\n\\n\\n\\n\\n\\n\\nGet In Touch\\n\\nWollert Victoria\\n\\n0404922328\\n\\nvictoriaonmove07@gmail.com\\n\\nQuick Links\\n\\nAbout Us Contact Us Our Services Terms & Condition\\n\\nPhoto Gallery\\n\\n\\n\\n\\n\\n\\n\\n\\n\\n\\n\\n\\n\\nCheck us out on Google!\\n\\nreviews\\n\\n© Victoria On Move 2024, All Right Reserved. Designed By HTML Codex\\n\\nHome\"),\n",
       " Document(metadata={'source': 'https://www.victoriaonmove.com.au/contact.html'}, page_content='Loading...\\n\\n\\n\\nContact Us\\n\\nYou can contact us any way that is convenient for you. We are available 24/7 via fax or email. You can also use a quick contact form below or visit our office personally. We would be happy to answer your questions.\\n\\nWollert Victoria\\n\\nvictoriaonmove07@gmail.com\\n\\n0404922328\\n\\nFind removalists travelling interstate to or from Sydney\\n\\nFrom Sydney\\n\\nTo Sydney\\n\\nMoving from Adelaide to SydneyMoving from Ballarat to SydneyMoving from Bendigo to SydneyMoving from Brisbane to SydneyMoving from Cairns to SydneyMoving from Canberra to SydneyMoving from Darwin to SydneyMoving from Geelong to SydneyMoving from Gold Coast to SydneyMoving from Hobart to SydneyMoving from Melbourne to SydneyMoving from Perth to SydneyMoving from Tasmania to Sydney\\n\\nMoving from Sydney to AdelaideMoving from Sydney to BallaratMoving from Sydney to BendigoMoving from Sydney to BrisbaneMoving from Sydney to BunburyMoving from Sydney to BundabergMoving from Sydney to CairnsMoving from Sydney to CanberraMoving from Sydney to DarwinMoving from Sydney to DevonportMoving from Sydney to Fraser CoastMoving from Sydney to GeelongMoving from Sydney to GeraldtonMoving from Sydney to GladstoneMoving from Sydney to Gold CoastMoving from Sydney to Hervey BayMoving from Sydney to HobartMoving from Sydney to LauncestonMoving from Sydney to MackayMoving from Sydney to MandurahMoving from Sydney to MelbourneMoving from Sydney to MeltonMoving from Sydney to PerthMoving from Sydney to RockhamptonMoving from Sydney to SheppartonMoving from Sydney to Sunshine CoastMoving from Sydney to TasmaniaMoving from Sydney to ToowoombaMoving from Sydney to TownsvilleMoving from Sydney to TraralgonMoving from Sydney to Warrnambool\\n\\nIf you are in need of local removalists services in Sydney we can also help with professional movers for local moves.\\n\\nGet In Touch\\n\\nWollert Victoria\\n\\n0404922328\\n\\nvictoriaonmove07@gmail.com\\n\\nQuick Links\\n\\nAbout Us Contact Us Our Services Terms & Condition\\n\\nPhoto Gallery\\n\\n\\n\\n\\n\\n\\n\\n\\n\\n\\n\\n\\n\\nCheck us out on Google!\\n\\nreviews\\n\\n© Victoria On Move 2024, All Right Reserved. Designed By HTML Codex\\n\\nHome')]"
      ]
     },
     "execution_count": 3,
     "metadata": {},
     "output_type": "execute_result"
    }
   ],
   "source": [
    "data"
   ]
  },
  {
   "cell_type": "markdown",
   "id": "ef88a136",
   "metadata": {},
   "source": [
    "# Performing Chunk Operations"
   ]
  },
  {
   "cell_type": "code",
   "execution_count": 4,
   "id": "90ea2bb2",
   "metadata": {},
   "outputs": [
    {
     "name": "stdout",
     "output_type": "stream",
     "text": [
      "Total Number of documents:  11\n"
     ]
    }
   ],
   "source": [
    "from langchain.text_splitter import RecursiveCharacterTextSplitter\n",
    "\n",
    "# Split data\n",
    "text_splitter = RecursiveCharacterTextSplitter(chunk_size=1000)\n",
    "docs = text_splitter.split_documents(data)\n",
    "print(\"Total Number of documents: \", len(docs))"
   ]
  },
  {
   "cell_type": "code",
   "execution_count": 5,
   "id": "0284807a",
   "metadata": {},
   "outputs": [
    {
     "data": {
      "text/plain": [
       "Document(metadata={'source': 'https://www.victoriaonmove.com.au'}, page_content='Loading...\\n\\nRelocate with confidence\\n\\nYour trusted partner in seamless moving and packing solutions!\\n\\nGoogle logo G\\n\\nGoogle Rating\\n\\nGold star icon\\n\\nGold star icon\\n\\nGold star icon\\n\\nGold star icon\\n\\nGold star icon\\n\\n5 stars, 111 reviews\\n\\n\\n\\n\\n\\n\\n\\n\\n\\nRequst A call for You:\\n\\nExplore Our Fleet\\n\\nVehicles Tailored for Your Moving Needs\\n\\nIcon\\n\\nSmall Truck\\n\\nWith 2 Mover\\n\\nFrom $110/hr\\n\\n4.5 ton 20 cubic Our Small Truck can manage a student apartment, small office .\\n\\nIcon\\n\\nMedium Truck\\n\\nWith 2 Mover\\n\\nFrom $130 p/hr\\n\\n6 ton 30-35 cubic\\n\\nOur Medium trucks can manage 2-3 bedroom with single lounge outdoor boxes and miscellaneous.\\n\\nIcon\\n\\nLarge Truck\\n\\nWith 2 Mover\\n\\nFrom $140 p/hr\\n\\n8 ton 40 cubic Our Large trucks can handle 3-4 bedrooms with double lounge outdoor boxes and miscellaneous.\\n\\nIcon\\n\\nX-Large Truck\\n\\nWith 2 Mover\\n\\nFrom $150 p/hr\\n\\n4.5 ton 20 cubic (10 ton or 50 cubic meter) Our X-Large trucks can handle 3-4 bedrooms double lounge outdoor miscellaneous items.\\n\\n\\n\\nOUR SERVICE')"
      ]
     },
     "execution_count": 5,
     "metadata": {},
     "output_type": "execute_result"
    }
   ],
   "source": [
    "docs[0]"
   ]
  },
  {
   "cell_type": "code",
   "execution_count": 6,
   "id": "707045c1",
   "metadata": {},
   "outputs": [],
   "source": [
    "from langchain.vectorstores import Chroma\n",
    "from langchain_chroma import Chroma\n",
    "from langchain.schema import Document\n",
    "from langchain_google_genai import GoogleGenerativeAIEmbeddings\n",
    "from langchain_google_genai import GoogleGenerativeAI\n",
    "import os"
   ]
  },
  {
   "cell_type": "code",
   "execution_count": 7,
   "id": "d5bd0478",
   "metadata": {},
   "outputs": [
    {
     "data": {
      "text/plain": [
       "True"
      ]
     },
     "execution_count": 7,
     "metadata": {},
     "output_type": "execute_result"
    }
   ],
   "source": [
    "from dotenv import load_dotenv\n",
    "load_dotenv()"
   ]
  },
  {
   "cell_type": "code",
   "execution_count": 8,
   "id": "af7e8760",
   "metadata": {},
   "outputs": [],
   "source": [
    "vectorstore = Chroma.from_documents(documents=docs, embedding=GoogleGenerativeAIEmbeddings(\n",
    "        model=\"models/embedding-001\",\n",
    "        GOOGLE_API_KEY = \"GOOGLE_API_KEY\"\n",
    "))"
   ]
  },
  {
   "cell_type": "code",
   "execution_count": 9,
   "id": "30c1bdeb",
   "metadata": {},
   "outputs": [],
   "source": [
    "retriver = vectorstore.as_retriever(search_type=\"similarity\", search_kwargs={\"k\":3})"
   ]
  },
  {
   "cell_type": "code",
   "execution_count": 10,
   "id": "504745cf",
   "metadata": {},
   "outputs": [],
   "source": [
    "retrived_docs = retriver.invoke(\"What kind of service they provide?\")"
   ]
  },
  {
   "cell_type": "code",
   "execution_count": 11,
   "id": "6fee50fb",
   "metadata": {},
   "outputs": [
    {
     "data": {
      "text/plain": [
       "3"
      ]
     },
     "execution_count": 11,
     "metadata": {},
     "output_type": "execute_result"
    }
   ],
   "source": [
    "len(retrived_docs)"
   ]
  },
  {
   "cell_type": "code",
   "execution_count": 12,
   "id": "54ac9fe4",
   "metadata": {},
   "outputs": [
    {
     "data": {
      "text/plain": [
       "[Document(id='11ea7295-0590-4c7a-98f1-588159c31c35', metadata={'source': 'https://www.victoriaonmove.com.au/index.html'}, page_content=\"2 BED HOME:\\n\\n2 Beds, Mattress, Tall Boy, Bedside, Refrigerator, Washing Machine,Dresser, Barbeque, Some Boxes, Loose stuff.\\n\\nBig HOME:\\n\\n4-5 Bed Room, Double Lounge, Mattress, Tall Boy, Bedside, Refrigerator, Washing Machine,Dresser, Barbeque, Some Boxes,Furniture, Loose stuff. Get a Quote\\n\\nInterstate Removalists:\\n\\nSeamless Relocation Across State Lines\\n\\n\\n\\nMelbourne to Sydney Removalists\\n\\nBook Now\\n\\n\\n\\nMelbourne to Brisbane Removalists\\n\\nBook Now\\n\\n\\n\\nMelbourne to Adelaide Removalists\\n\\nBook Now\\n\\n\\n\\nMelbourne to Canberra Removalists\\n\\nBook Now\\n\\n\\n\\nOUR MOVING WORK & ETHICS\\n\\nMoving house furniture is an art that comes with experience and a steadfast commitment to our customers' needs. It's a challenging industry, and not everyone survives for long without the expertise and dedication that we bring to every job. Our long history as Removalists in Melbourne is a testament to our sincerity and hard work.\"),\n",
       " Document(id='bc7a656f-9106-4f36-9f8f-dd1035f86ddd', metadata={'source': 'https://www.victoriaonmove.com.au'}, page_content=\"2 BED HOME:\\n\\n2 Beds, Mattress, Tall Boy, Bedside, Refrigerator, Washing Machine,Dresser, Barbeque, Some Boxes, Loose stuff.\\n\\nBig HOME:\\n\\n4-5 Bed Room, Double Lounge, Mattress, Tall Boy, Bedside, Refrigerator, Washing Machine,Dresser, Barbeque, Some Boxes,Furniture, Loose stuff. Get a Quote\\n\\nInterstate Removalists:\\n\\nSeamless Relocation Across State Lines\\n\\n\\n\\nMelbourne to Sydney Removalists\\n\\nBook Now\\n\\n\\n\\nMelbourne to Brisbane Removalists\\n\\nBook Now\\n\\n\\n\\nMelbourne to Adelaide Removalists\\n\\nBook Now\\n\\n\\n\\nMelbourne to Canberra Removalists\\n\\nBook Now\\n\\n\\n\\nOUR MOVING WORK & ETHICS\\n\\nMoving house furniture is an art that comes with experience and a steadfast commitment to our customers' needs. It's a challenging industry, and not everyone survives for long without the expertise and dedication that we bring to every job. Our long history as Removalists in Melbourne is a testament to our sincerity and hard work.\"),\n",
       " Document(id='cd6d0842-5ddd-4f37-a28f-6daab99920b2', metadata={'source': 'https://www.victoriaonmove.com.au'}, page_content='Loading...\\n\\nRelocate with confidence\\n\\nYour trusted partner in seamless moving and packing solutions!\\n\\nGoogle logo G\\n\\nGoogle Rating\\n\\nGold star icon\\n\\nGold star icon\\n\\nGold star icon\\n\\nGold star icon\\n\\nGold star icon\\n\\n5 stars, 111 reviews\\n\\n\\n\\n\\n\\n\\n\\n\\n\\nRequst A call for You:\\n\\nExplore Our Fleet\\n\\nVehicles Tailored for Your Moving Needs\\n\\nIcon\\n\\nSmall Truck\\n\\nWith 2 Mover\\n\\nFrom $110/hr\\n\\n4.5 ton 20 cubic Our Small Truck can manage a student apartment, small office .\\n\\nIcon\\n\\nMedium Truck\\n\\nWith 2 Mover\\n\\nFrom $130 p/hr\\n\\n6 ton 30-35 cubic\\n\\nOur Medium trucks can manage 2-3 bedroom with single lounge outdoor boxes and miscellaneous.\\n\\nIcon\\n\\nLarge Truck\\n\\nWith 2 Mover\\n\\nFrom $140 p/hr\\n\\n8 ton 40 cubic Our Large trucks can handle 3-4 bedrooms with double lounge outdoor boxes and miscellaneous.\\n\\nIcon\\n\\nX-Large Truck\\n\\nWith 2 Mover\\n\\nFrom $150 p/hr\\n\\n4.5 ton 20 cubic (10 ton or 50 cubic meter) Our X-Large trucks can handle 3-4 bedrooms double lounge outdoor miscellaneous items.\\n\\n\\n\\nOUR SERVICE')]"
      ]
     },
     "execution_count": 12,
     "metadata": {},
     "output_type": "execute_result"
    }
   ],
   "source": [
    "retrived_docs"
   ]
  },
  {
   "cell_type": "code",
   "execution_count": 13,
   "id": "5f5cf013",
   "metadata": {},
   "outputs": [
    {
     "name": "stdout",
     "output_type": "stream",
     "text": [
      "2 BED HOME:\n",
      "\n",
      "2 Beds, Mattress, Tall Boy, Bedside, Refrigerator, Washing Machine,Dresser, Barbeque, Some Boxes, Loose stuff.\n",
      "\n",
      "Big HOME:\n",
      "\n",
      "4-5 Bed Room, Double Lounge, Mattress, Tall Boy, Bedside, Refrigerator, Washing Machine,Dresser, Barbeque, Some Boxes,Furniture, Loose stuff. Get a Quote\n",
      "\n",
      "Interstate Removalists:\n",
      "\n",
      "Seamless Relocation Across State Lines\n",
      "\n",
      "\n",
      "\n",
      "Melbourne to Sydney Removalists\n",
      "\n",
      "Book Now\n",
      "\n",
      "\n",
      "\n",
      "Melbourne to Brisbane Removalists\n",
      "\n",
      "Book Now\n",
      "\n",
      "\n",
      "\n",
      "Melbourne to Adelaide Removalists\n",
      "\n",
      "Book Now\n",
      "\n",
      "\n",
      "\n",
      "Melbourne to Canberra Removalists\n",
      "\n",
      "Book Now\n",
      "\n",
      "\n",
      "\n",
      "OUR MOVING WORK & ETHICS\n",
      "\n",
      "Moving house furniture is an art that comes with experience and a steadfast commitment to our customers' needs. It's a challenging industry, and not everyone survives for long without the expertise and dedication that we bring to every job. Our long history as Removalists in Melbourne is a testament to our sincerity and hard work.\n"
     ]
    }
   ],
   "source": [
    "print(retrived_docs[0].page_content)"
   ]
  },
  {
   "cell_type": "markdown",
   "id": "524b677d",
   "metadata": {},
   "source": [
    "# Now Connceting to the LLm Models"
   ]
  },
  {
   "cell_type": "code",
   "execution_count": 14,
   "id": "beb7cc45",
   "metadata": {},
   "outputs": [],
   "source": [
    "llm = GoogleGenerativeAI(model='gemini-1.5-pro', temperature=0, max_tokens=500)"
   ]
  },
  {
   "cell_type": "code",
   "execution_count": 15,
   "id": "210c8960",
   "metadata": {},
   "outputs": [],
   "source": [
    "from langchain.chains import create_retrieval_chain\n",
    "from langchain.chains.combine_documents import create_stuff_documents_chain\n",
    "from langchain_core.prompts import ChatPromptTemplate\n",
    "\n",
    "system_prompt = (\n",
    "    \"You are an assistance for question-answering tasks. \"\n",
    "    \"use the following pieces of retrived context to answer \"\n",
    "    \"the question. if you don't know the answer, say that you \"\n",
    "    \"don't know. Use three sentences maximum and keep the \"\n",
    "    \"answer concise.\"\n",
    "    \"\\n\\n\"\n",
    "    \"{context}\"\n",
    ")\n",
    "\n",
    "prompt = ChatPromptTemplate.from_messages(\n",
    "    [\n",
    "        (\"system\", system_prompt),\n",
    "        (\"human\", \"{input}\"),\n",
    "    ]\n",
    ")"
   ]
  },
  {
   "cell_type": "code",
   "execution_count": 16,
   "id": "1f61282b",
   "metadata": {},
   "outputs": [],
   "source": [
    "question_answer_chain = create_stuff_documents_chain(llm, prompt)\n",
    "rag_chain = create_retrieval_chain(retriver, question_answer_chain)"
   ]
  },
  {
   "cell_type": "code",
   "execution_count": 17,
   "id": "20eaeadb",
   "metadata": {},
   "outputs": [
    {
     "name": "stdout",
     "output_type": "stream",
     "text": [
      "They provide interstate removalist services, specializing in moves originating from Melbourne.  They offer moving and packing solutions with various truck sizes to accommodate different needs, from small apartments to larger homes.  Their pricing varies depending on truck size, starting from $110/hr for a small truck.\n"
     ]
    }
   ],
   "source": [
    "response = rag_chain.invoke({\"input\": \"What kind of services they provide?\"})\n",
    "print(response[\"answer\"])"
   ]
  },
  {
   "cell_type": "code",
   "execution_count": null,
   "id": "ad45a451",
   "metadata": {},
   "outputs": [],
   "source": []
  }
 ],
 "metadata": {
  "kernelspec": {
   "display_name": "Python 3",
   "language": "python",
   "name": "python3"
  },
  "language_info": {
   "codemirror_mode": {
    "name": "ipython",
    "version": 3
   },
   "file_extension": ".py",
   "mimetype": "text/x-python",
   "name": "python",
   "nbconvert_exporter": "python",
   "pygments_lexer": "ipython3",
   "version": "3.10.16"
  }
 },
 "nbformat": 4,
 "nbformat_minor": 5
}
